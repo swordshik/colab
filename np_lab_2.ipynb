{
  "nbformat": 4,
  "nbformat_minor": 0,
  "metadata": {
    "colab": {
      "provenance": [],
      "gpuType": "T4",
      "include_colab_link": true
    },
    "kernelspec": {
      "name": "python3",
      "display_name": "Python 3"
    },
    "language_info": {
      "name": "python"
    },
    "accelerator": "GPU"
  },
  "cells": [
    {
      "cell_type": "markdown",
      "metadata": {
        "id": "view-in-github",
        "colab_type": "text"
      },
      "source": [
        "<a href=\"https://colab.research.google.com/github/swordshik/colab/blob/main/np_lab_2.ipynb\" target=\"_parent\"><img src=\"https://colab.research.google.com/assets/colab-badge.svg\" alt=\"Open In Colab\"/></a>"
      ]
    },
    {
      "cell_type": "code",
      "execution_count": null,
      "metadata": {
        "id": "WhJaNlTJrg7T"
      },
      "outputs": [],
      "source": [
        "import numpy as np"
      ]
    },
    {
      "cell_type": "markdown",
      "source": [
        "# Task_1\n",
        "\n",
        "Даны массивы $x$ и $y$. Для каждой пары элементов массивов выполните вычисление по формуле:\n",
        "\n",
        "$$z = 2x + 3y - xy$$"
      ],
      "metadata": {
        "id": "uBaTLvH4y81o"
      }
    },
    {
      "cell_type": "code",
      "source": [
        "x = np.array([-3, -3, 12,  7,  2,  5, -5, -1,  3, 12,  3, -4,  9, 14, -1,  1,  4,\n",
        "       13,  9,  5])\n",
        "y = np.array([13,  0,  9, -1, 12,  4,  1,  1,  0, 13,  8, 14, -3, -5,  2,  8, -3,\n",
        "        2, 10, -3])"
      ],
      "metadata": {
        "id": "V6dQbbMIy8hR"
      },
      "execution_count": null,
      "outputs": []
    },
    {
      "cell_type": "code",
      "source": [],
      "metadata": {
        "id": "B3AIwH7zy8eV"
      },
      "execution_count": null,
      "outputs": []
    },
    {
      "cell_type": "code",
      "source": [],
      "metadata": {
        "id": "P5TopCOwy8b2"
      },
      "execution_count": null,
      "outputs": []
    },
    {
      "cell_type": "markdown",
      "source": [
        "# Task_2\n",
        "\n",
        "Даны две матрицы $A$ и $B$. Выполните рассчет результирующей матрицы по формуле:\n",
        "\n",
        "$$C = 2A - 3B$$"
      ],
      "metadata": {
        "id": "_F8RizPS4xNj"
      }
    },
    {
      "cell_type": "code",
      "source": [
        "a = np.array([[  3,   5,  -5,  -6,  -9,   2,  -2],\n",
        "              [-10,  -3,  -5,   0,   6,   9,  -5],\n",
        "              [-10,   5,  -2,  -5,   0,   3,  -3],\n",
        "              [  7,  -3,  -2,   7,   1, -10,  -8],\n",
        "              [  8,  -5,  -4,  -9,   8,   4,   9],\n",
        "              [ -3,  -4,   6,  -3,  -2,   8,   3],\n",
        "              [  4,  -8,  -5,  -6,   1,   5,   1]])\n",
        "\n",
        "b = np.array([[ -2,  -1,   4, -10,  -1,   8,   5],\n",
        "              [ -1,  -1,  -5,  -9,   0,   5,  -7],\n",
        "              [ -5,  -5,  -2,  -6,   9,   8,  -6],\n",
        "              [  2,   5,  -1,   4,  -8,  -2,   1],\n",
        "              [ -6,  -5,   6,   1,   1,   5,  -7],\n",
        "              [  0,   3,  -8,  -1,  -3,   9,   1],\n",
        "              [  9,   7,  -7,   5,  -1,  -9,   6]])"
      ],
      "metadata": {
        "id": "pX1St9xq4xCI"
      },
      "execution_count": null,
      "outputs": []
    },
    {
      "cell_type": "code",
      "source": [],
      "metadata": {
        "id": "3CUHJGrz4w_A"
      },
      "execution_count": null,
      "outputs": []
    },
    {
      "cell_type": "code",
      "source": [],
      "metadata": {
        "id": "A8XzDG3j5ZOm"
      },
      "execution_count": null,
      "outputs": []
    },
    {
      "cell_type": "markdown",
      "source": [
        "# Task_3\n",
        "\n",
        "Дана матрица, где колонки - это переменные $x$ и $y$ соответственно. Для каждой пары элементов массивов выполните вычисление по формуле:\n",
        "\n",
        "$$z = 2x + 3y - xy$$"
      ],
      "metadata": {
        "id": "Y15nEo6P0eKn"
      }
    },
    {
      "cell_type": "code",
      "source": [
        "arr = np.array([x, y]).T"
      ],
      "metadata": {
        "id": "kY2sn0eM0fQ4"
      },
      "execution_count": null,
      "outputs": []
    },
    {
      "cell_type": "code",
      "source": [],
      "metadata": {
        "id": "Ld2PbbJU0fs6"
      },
      "execution_count": null,
      "outputs": []
    },
    {
      "cell_type": "markdown",
      "source": [
        "# Task_4\n",
        "\n",
        "Дана матрица чисел. Вычислите\n",
        "\n",
        "* Сумму всех элементов\n",
        "* Сумму элементов каждой строки\n",
        "* Сумму элементов каждого столбца\n",
        "* Среднее по строкам\n",
        "* Медиану по столбцам\n",
        "* Минимальное значение из каждой строки\n",
        "* Сумму всех минимальных значений по каждой строке\n",
        "* Для каждого строкстолбца сумму квадратов элементов."
      ],
      "metadata": {
        "id": "Jzh2n1-R2IN7"
      }
    },
    {
      "cell_type": "code",
      "source": [
        "matr = np.array([[  5,   8,  -2,   7,  -6,  -2],\n",
        "                [  8,  -2,  -1, -10, -10,   7],\n",
        "                [  5,   9, -10,  -4,   1,   3],\n",
        "                [  1,   2,  -7,   6,  -6,  -2],\n",
        "                [  8,   4, -10,  -9,   1,  -6],\n",
        "                [ -4,  -5,  -9,  -1,  -3,  -3]])"
      ],
      "metadata": {
        "id": "eByN3dHu2qqw"
      },
      "execution_count": null,
      "outputs": []
    },
    {
      "cell_type": "code",
      "source": [],
      "metadata": {
        "id": "wPWMn6oO21Wy"
      },
      "execution_count": null,
      "outputs": []
    },
    {
      "cell_type": "code",
      "source": [],
      "metadata": {
        "id": "IKQTHTwo21UI"
      },
      "execution_count": null,
      "outputs": []
    },
    {
      "cell_type": "markdown",
      "source": [
        "# Task_5\n",
        "\n",
        "Дан одномерный массив. Сделайте его преобразование по формуле.\n",
        "\n",
        "$$X_{norm} = \\frac{X - x_{min}}{x_{max} - x_{min}}$$"
      ],
      "metadata": {
        "id": "80Rt1H2u3xAl"
      }
    },
    {
      "cell_type": "code",
      "source": [
        "x = np.array([ 5, -7,  1, -5, -7, -5,  6, -1, -5, -9,  8,  1, -9, -6, -2])"
      ],
      "metadata": {
        "id": "qok9u7m921RT"
      },
      "execution_count": null,
      "outputs": []
    },
    {
      "cell_type": "code",
      "source": [],
      "metadata": {
        "id": "Arz2Wh4e21BF"
      },
      "execution_count": null,
      "outputs": []
    },
    {
      "cell_type": "code",
      "source": [],
      "metadata": {
        "id": "hAX_fgpc20-f"
      },
      "execution_count": null,
      "outputs": []
    },
    {
      "cell_type": "markdown",
      "source": [
        "# Task_6\n",
        "\n",
        "Дана числовая матрица. Преобразуйте каждый столбец по формуле:\n",
        "\n",
        "$$X_{norm} = \\frac{X - x_{min}}{x_{max} - x_{min}}$$"
      ],
      "metadata": {
        "id": "bN5Am1pp5fcK"
      }
    },
    {
      "cell_type": "code",
      "source": [
        "matrix = np.array([[ -9,  -9,  -6,  -4,   2,   2,  -7],\n",
        "                    [ -5,  -6,  -3,   6,   9,  -3,  -6],\n",
        "                    [ -8,   2,   4,   1,  -1,  -8,   0],\n",
        "                    [  0,   1,   5,  -3,   9,   1,   6],\n",
        "                    [ -1,  -3,  -8,  -9,  -7,  -3, -10],\n",
        "                    [ -8,   0, -10,  -9,   4, -10,   0],\n",
        "                    [ -8, -10,  -9, -10,   5,   4,  -1]])"
      ],
      "metadata": {
        "id": "_abChUza4U7J"
      },
      "execution_count": null,
      "outputs": []
    },
    {
      "cell_type": "code",
      "source": [],
      "metadata": {
        "id": "54vJMq3h5dpL"
      },
      "execution_count": null,
      "outputs": []
    },
    {
      "cell_type": "code",
      "source": [],
      "metadata": {
        "id": "Di4rA6GH4U4P"
      },
      "execution_count": null,
      "outputs": []
    },
    {
      "cell_type": "markdown",
      "source": [
        "# Task_6_B\n",
        "\n",
        "Дан многомерный массив с картинками. Нормализуйте каждую картинку."
      ],
      "metadata": {
        "id": "E5HEHvjbfqPq"
      }
    },
    {
      "cell_type": "code",
      "source": [
        "images = np.random.randint(0, 255, (10, 3, 64, 64))\n",
        "images.shape"
      ],
      "metadata": {
        "id": "-Hf2zYZDfqBk",
        "outputId": "d3b717cb-a5a4-4afc-beb3-01248d4f9fc8",
        "colab": {
          "base_uri": "https://localhost:8080/"
        }
      },
      "execution_count": null,
      "outputs": [
        {
          "output_type": "execute_result",
          "data": {
            "text/plain": [
              "(10, 3, 64, 64)"
            ]
          },
          "metadata": {},
          "execution_count": 6
        }
      ]
    },
    {
      "cell_type": "code",
      "source": [],
      "metadata": {
        "id": "TMX_k--8fp_Y"
      },
      "execution_count": null,
      "outputs": []
    },
    {
      "cell_type": "markdown",
      "source": [
        "# Task_7\n",
        "\n",
        "Дан двумерный набор чисел, где каждая строка - это стороны параллелепипеда. *(Для справки: аквариум, каждая грань которого - прямоугольник, является параллелепипедом)*\n",
        "\n",
        "Вычислите главную диагональ каждого параллелепипеда. Для этого существует \"трехмерная\" теорема Пифагора.\n",
        "\n",
        "$$d = \\sqrt{a^2 + b^2 + c^2}$$"
      ],
      "metadata": {
        "id": "tm4L7-7t6Fza"
      }
    },
    {
      "cell_type": "code",
      "source": [
        "fig = np.array([[ 1, 12,  1],\n",
        "                [ 1, 19, 19],\n",
        "                [ 6, 10,  4],\n",
        "                [13,  6, 15],\n",
        "                [ 7,  2, 13],\n",
        "                [18, 11, 16],\n",
        "                [18, 13,  8],\n",
        "                [ 5,  8, 19],\n",
        "                [ 7, 13, 18],\n",
        "                [ 4, 12, 14]])"
      ],
      "metadata": {
        "id": "25n5SaWW52j_"
      },
      "execution_count": null,
      "outputs": []
    },
    {
      "cell_type": "code",
      "source": [],
      "metadata": {
        "id": "rryQ3UWl52hH"
      },
      "execution_count": null,
      "outputs": []
    },
    {
      "cell_type": "code",
      "source": [],
      "metadata": {
        "id": "jDbE-ZT552eX"
      },
      "execution_count": null,
      "outputs": []
    },
    {
      "cell_type": "markdown",
      "source": [
        "## Task_8\n",
        "\n",
        "Даны два одномерных числовых массива. Для каждой пары рассчитайте среднее гармоническое.\n",
        "\n",
        "$$x_{garm} = \\frac{n}{\\frac{1}{x_1}+\\frac{1}{x_2}+ ... + \\frac{1}{x_n}}$$"
      ],
      "metadata": {
        "id": "pUIQkfmd7RtE"
      }
    },
    {
      "cell_type": "code",
      "source": [
        "x_1 = np.array([19,  1,  2,  6,  5,  2,  6,  1, 12, 19])\n",
        "x_2 = np.array([ 1,  5,  1,  6, -9,  8, -3,  10,  4,  5])"
      ],
      "metadata": {
        "id": "859blTXw7KCv"
      },
      "execution_count": null,
      "outputs": []
    },
    {
      "cell_type": "code",
      "source": [],
      "metadata": {
        "id": "u9qkk5Qi7J_4"
      },
      "execution_count": null,
      "outputs": []
    },
    {
      "cell_type": "code",
      "source": [],
      "metadata": {
        "id": "w-M7L-w37J9O"
      },
      "execution_count": null,
      "outputs": []
    },
    {
      "cell_type": "markdown",
      "source": [
        "# Task_9\n",
        "\n",
        "Дана числовая матрица. Для каждого ее столбца вычислите среднее гармоническое."
      ],
      "metadata": {
        "id": "bRV3dcd481dX"
      }
    },
    {
      "cell_type": "code",
      "source": [
        "matrix = np.array([[13,  1,  8, 18, 18,  1, 18, 15, 14, 18],\n",
        "                    [12, 11, 17, 15, 15,  8,  4,  7, 16, 15],\n",
        "                    [ 6, 17,  7,  5,  7,  1, 17, 12, 16, 19],\n",
        "                    [14, 10, 12, 18,  6, 18,  5, 19, 19, 17],\n",
        "                    [ 5, 14, 11,  5,  1, 16,  1,  7, 19, 19],\n",
        "                    [13, 18, 14,  1,  5,  4,  4,  4, 17,  7],\n",
        "                    [16,  9, 11, 14, 17,  1,  9, 18, 18,  4],\n",
        "                    [16,  2, 17, 11, 13, 16,  8,  3, 15,  1],\n",
        "                    [ 9,  6,  2,  7,  1,  9, 19,  7, 15,  4],\n",
        "                    [13,  1, 10, 11, 16,  8,  4, 18,  6, 11]])"
      ],
      "metadata": {
        "id": "J-DEcYgG9Ars"
      },
      "execution_count": null,
      "outputs": []
    },
    {
      "cell_type": "code",
      "source": [],
      "metadata": {
        "id": "pMW8YT1B9Aoy"
      },
      "execution_count": null,
      "outputs": []
    },
    {
      "cell_type": "code",
      "source": [],
      "metadata": {
        "id": "-61dpoNG9Al-"
      },
      "execution_count": null,
      "outputs": []
    },
    {
      "cell_type": "markdown",
      "source": [
        "# Task_10\n",
        "\n",
        "Для массива из предыдущей задачи верните одномерный массив, где каждый элемент показывает, на сколько среднее в колонке отклоняется от среднего по всему массиву в абсолютном значении. Вам понадобится модуль разности."
      ],
      "metadata": {
        "id": "RxGTGNIa-Onb"
      }
    },
    {
      "cell_type": "code",
      "source": [
        "matrix"
      ],
      "metadata": {
        "id": "3GY4nMfM93K1"
      },
      "execution_count": null,
      "outputs": []
    },
    {
      "cell_type": "code",
      "source": [],
      "metadata": {
        "id": "wP6PC3YX-ONE"
      },
      "execution_count": null,
      "outputs": []
    },
    {
      "cell_type": "markdown",
      "source": [
        "# Task_11\n",
        "\n",
        "Вы делаете анализ рынка недвижимости. Перед вами задача для каждого земельного участка вычислить стоимость одной сотки земли. Вам даны 2 массива с необходимыми значениями. В Данных есть ошибки и некорректные значения. После рассчета, произведите чистку полученного массива."
      ],
      "metadata": {
        "id": "xLlz55Ud-q-g"
      }
    },
    {
      "cell_type": "code",
      "source": [
        "usd_price = np.array([ 96738., 135596.,  96282., 150607.,  67225.,  20191., 189050.,\n",
        "                    149399.,  81149.,     np.nan, 123021., 117118.,  78244.,  61019.,\n",
        "                        np.nan,     np.nan,     np.nan, 172613.,  96979., 145361., 179801.,\n",
        "                    192873.,  17723.,  38203.,  18272.,  47141., 197610., 120982.,\n",
        "                      29517.,     np.nan,  10968., 142459.,  87694.,  95156.,  11441.,\n",
        "                      69183., 128058., 120072.,  71501., 172044., 155418.,  74643.,\n",
        "                      22135., 169163.,  96552., 177093.,  13314.,  25725.,  20973.,\n",
        "                      48835.])\n",
        "squere = np.array([11, 10,  4, 19, 12, 17, 16, 16,  3, 11, 16, 0, 18, 13, 16,  4,  8,\n",
        "                  10, 16, 19,  7, 16,  6, 11, 11, 18, 14, 11,  8,  3, 19,  5,  9,  8,\n",
        "                  16,  5, 11,  3, 19,  4, 17, 0, 17, 12,  9,  4,  7, 14, 17, 0])"
      ],
      "metadata": {
        "id": "zNtSZ2oO-boi"
      },
      "execution_count": null,
      "outputs": []
    },
    {
      "cell_type": "code",
      "source": [],
      "metadata": {
        "id": "bq5V0IO2_0-9"
      },
      "execution_count": null,
      "outputs": []
    },
    {
      "cell_type": "code",
      "source": [],
      "metadata": {
        "id": "s4uXDDZSA2aA"
      },
      "execution_count": null,
      "outputs": []
    },
    {
      "cell_type": "markdown",
      "source": [
        "# Task_12\n",
        "\n",
        "Дан числовой массив. Измените его таким образом, чтобы все нечетные элементы стали иметь значение 0. Используйте функцию `where()`."
      ],
      "metadata": {
        "id": "K9KMrG1eBJFz"
      }
    },
    {
      "cell_type": "code",
      "source": [
        "arr = np.arange(1, 50).reshape(7, 7)"
      ],
      "metadata": {
        "id": "6R9nR0u4A2XW"
      },
      "execution_count": null,
      "outputs": []
    },
    {
      "cell_type": "code",
      "source": [],
      "metadata": {
        "id": "4ad0wEsdA2Ub"
      },
      "execution_count": null,
      "outputs": []
    },
    {
      "cell_type": "code",
      "source": [],
      "metadata": {
        "id": "ET4VFa4WA2Ra"
      },
      "execution_count": null,
      "outputs": []
    },
    {
      "cell_type": "markdown",
      "source": [
        "# Task_13\n",
        "\n",
        "Даны два одномерных числовых набора.\n",
        "\n",
        "* mean_price - средняя стоимость продуктов в категории.\n",
        "* price - реальная стоимость продукта в соответствующей категории.\n",
        "\n",
        "Отредактируйте массив price таким образом, чтобы в нем те значения стоимости, которые отклоняются от средней более чен на 30% были заменены на nan. Используйте функцию `where()`."
      ],
      "metadata": {
        "id": "NuDwvxqAByvY"
      }
    },
    {
      "cell_type": "code",
      "source": [
        "mean_price  = np.array([18013, 16619, 12592, 19584,  9968, 11577, 17709,  7279,  7187,\n",
        "                        15799,  7496,  7944, 13496, 15644,  7147, 19940,  5733,  9576,\n",
        "                        19029,  8327])\n",
        "price = np.array([ 9006, 23267, 12592, 21542, 10965,  8104, 21251,  8007,  3594,\n",
        "                  22119,  8246,  4766, 18894, 10951,  9291, 21934,  5160,  9576,\n",
        "                  20932,  4164])"
      ],
      "metadata": {
        "id": "_h86AE7RA2L7"
      },
      "execution_count": null,
      "outputs": []
    },
    {
      "cell_type": "code",
      "source": [],
      "metadata": {
        "id": "kPs-GOjQDbH8"
      },
      "execution_count": null,
      "outputs": []
    },
    {
      "cell_type": "code",
      "source": [],
      "metadata": {
        "id": "57z3JnZ-ETJ9"
      },
      "execution_count": null,
      "outputs": []
    },
    {
      "cell_type": "markdown",
      "source": [
        "# Task_13\n",
        "\n",
        "Дана числовая матрица. Мы хотим каждый элемент каждой строки увеличить на сколько-то процентов. Для этого нам дан список со значением процентного числа для каждого столбца. Выполните коррекцию значений матрицы."
      ],
      "metadata": {
        "id": "WwtATKixExgM"
      }
    },
    {
      "cell_type": "code",
      "source": [
        "matrix = np.array([[41, 10, 23, 26, 38],\n",
        "                  [42, 33, 44, 40, 36],\n",
        "                  [27, 40, 38, 12, 37],\n",
        "                  [25, 28, 47, 31, 37],\n",
        "                  [25, 33, 43, 20, 38]])\n",
        "perc_list = [10, 15, 5, 25, 40]"
      ],
      "metadata": {
        "id": "PXUKBYZmDbFO"
      },
      "execution_count": null,
      "outputs": []
    },
    {
      "cell_type": "code",
      "source": [],
      "metadata": {
        "id": "3rUvxtsgGAX5"
      },
      "execution_count": null,
      "outputs": []
    },
    {
      "cell_type": "code",
      "source": [],
      "metadata": {
        "id": "W4C9rXViGAVG"
      },
      "execution_count": null,
      "outputs": []
    },
    {
      "cell_type": "markdown",
      "source": [
        "# Task_14*\n",
        "\n",
        "Дан массив, где каждая строка - это координаты точки в декартовом двумерном пространстве. Все точки образуют Кластер. Найдите координату середины данного кластера."
      ],
      "metadata": {
        "id": "v8B-G81oGxcl"
      }
    },
    {
      "cell_type": "code",
      "source": [
        "coords = np.random.randn(100, 2) + np.array([2, 3])"
      ],
      "metadata": {
        "id": "_2Yw1VfmHLJc"
      },
      "execution_count": null,
      "outputs": []
    },
    {
      "cell_type": "code",
      "source": [
        "# vizual\n",
        "import seaborn as sns"
      ],
      "metadata": {
        "id": "KGnxXfVtGKOj"
      },
      "execution_count": null,
      "outputs": []
    },
    {
      "cell_type": "code",
      "source": [
        "sns.scatterplot(x = coords[:, 0], y = coords[:, 1], color='green')"
      ],
      "metadata": {
        "colab": {
          "base_uri": "https://localhost:8080/",
          "height": 447
        },
        "id": "TTp6pT1qGtUB",
        "outputId": "a4ed6686-d8d9-417b-af58-79121d26dd7d"
      },
      "execution_count": null,
      "outputs": [
        {
          "output_type": "execute_result",
          "data": {
            "text/plain": [
              "<Axes: >"
            ]
          },
          "metadata": {},
          "execution_count": 73
        },
        {
          "output_type": "display_data",
          "data": {
            "text/plain": [
              "<Figure size 640x480 with 1 Axes>"
            ],
            "image/png": "[encoded data removed]"
          },
          "metadata": {}
        }
      ]
    },
    {
      "cell_type": "code",
      "source": [
        "coords[:5]"
      ],
      "metadata": {
        "colab": {
          "base_uri": "https://localhost:8080/"
        },
        "id": "wzgEQwAm-bld",
        "outputId": "52595ffb-1974-4833-825c-49a92324e2e8"
      },
      "execution_count": null,
      "outputs": [
        {
          "output_type": "execute_result",
          "data": {
            "text/plain": [
              "array([[1.33917914, 3.93938225],\n",
              "       [1.39747247, 1.82789796],\n",
              "       [1.54523536, 2.95526526],\n",
              "       [2.12238962, 2.90480747],\n",
              "       [1.28348405, 2.57725362]])"
            ]
          },
          "metadata": {},
          "execution_count": 74
        }
      ]
    },
    {
      "cell_type": "code",
      "source": [],
      "metadata": {
        "id": "ijC5MWzA-biZ"
      },
      "execution_count": null,
      "outputs": []
    },
    {
      "cell_type": "code",
      "source": [],
      "metadata": {
        "id": "IqXAI2Umy8Za"
      },
      "execution_count": null,
      "outputs": []
    },
    {
      "cell_type": "markdown",
      "source": [
        "# Task_15*\n",
        "\n",
        "Решив предыдущую задачу, вычислите все расстояния от каждой точки до центроида. Результат представьте в виде одномерного массива.\n",
        "\n",
        "$$\\rho(m_i, m_{centr}) = \\sqrt{(x_{m_i} - x_{m_{centr}})^2 + ((y_{m_i} - y_{m_{centr}})^2}$$"
      ],
      "metadata": {
        "id": "Os2jQT4jH5Rk"
      }
    },
    {
      "cell_type": "code",
      "source": [],
      "metadata": {
        "id": "hfX2Xpzmy8Wm"
      },
      "execution_count": null,
      "outputs": []
    },
    {
      "cell_type": "code",
      "source": [],
      "metadata": {
        "id": "XbZ_GSMny8T4"
      },
      "execution_count": null,
      "outputs": []
    },
    {
      "cell_type": "code",
      "source": [],
      "metadata": {
        "id": "987zrQabJR3R"
      },
      "execution_count": null,
      "outputs": []
    },
    {
      "cell_type": "markdown",
      "source": [
        "# Clustering_Task***"
      ],
      "metadata": {
        "id": "FS989ZNSJNJg"
      }
    },
    {
      "cell_type": "markdown",
      "source": [
        "Даны два гаусова кластера - два облака точек, распределенных вокруг заданных центроидов в двумерном пространстве. Кластеры будем называть 1 и -1.\n",
        "\n",
        "`centroids` - массив, где две строки - это координаты $x$ и $y$ центроидов 1 и -1.\n",
        "\n",
        "Каждой точке, которая задана координатами в массиве coords, постаьте в соответствие метку кластера 1 или -1 в зависимости от того, к какомы центроиду эта точка ближе. Вы получите одномерный массив с количеством элементов равному количеству точек."
      ],
      "metadata": {
        "id": "h0PGZio0KTaI"
      }
    },
    {
      "cell_type": "code",
      "source": [
        "centroids = np.array([[5, 2], [-1, 7]])\n",
        "coords = np.concatenate([np.random.randn(70, 2)+centroids[0], np.random.randn(50, 2)+centroids[1]], axis=0)\n",
        "coords[:5]"
      ],
      "metadata": {
        "id": "QzVTBFTdsh13",
        "colab": {
          "base_uri": "https://localhost:8080/"
        },
        "outputId": "07dcafc9-5b38-4fab-a7e2-f39d1281b49e"
      },
      "execution_count": null,
      "outputs": [
        {
          "output_type": "execute_result",
          "data": {
            "text/plain": [
              "array([[4.06398417, 3.57509006],\n",
              "       [4.67919785, 2.42315534],\n",
              "       [4.52334976, 0.84717518],\n",
              "       [4.34530081, 0.20449208],\n",
              "       [5.74168581, 1.62014972]])"
            ]
          },
          "metadata": {},
          "execution_count": 82
        }
      ]
    },
    {
      "cell_type": "code",
      "source": [
        "sns.scatterplot(x = coords[:, 0], y = coords[:, 1], color='green')\n",
        "sns.scatterplot(x = centroids[:, 0], y = centroids[:, 1], color='red')"
      ],
      "metadata": {
        "id": "adau0AjxshsS",
        "colab": {
          "base_uri": "https://localhost:8080/",
          "height": 447
        },
        "outputId": "d6a03f84-dcdb-4c3a-8245-a69a305b0a01"
      },
      "execution_count": null,
      "outputs": [
        {
          "output_type": "execute_result",
          "data": {
            "text/plain": [
              "<Axes: >"
            ]
          },
          "metadata": {},
          "execution_count": 85
        },
        {
          "output_type": "display_data",
          "data": {
            "text/plain": [
              "<Figure size 640x480 with 1 Axes>"
            ],
            "image/png": "[encoded data removed]"
          },
          "metadata": {}
        }
      ]
    },
    {
      "cell_type": "code",
      "source": [],
      "metadata": {
        "id": "jCDA-o8LshqM"
      },
      "execution_count": null,
      "outputs": []
    },
    {
      "cell_type": "code",
      "source": [],
      "metadata": {
        "id": "0ivVyZUbbvYC"
      },
      "execution_count": null,
      "outputs": []
    }
  ]
}